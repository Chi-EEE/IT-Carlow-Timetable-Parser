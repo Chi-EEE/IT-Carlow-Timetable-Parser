{
 "cells": [
  {
   "cell_type": "code",
   "execution_count": null,
   "metadata": {},
   "outputs": [],
   "source": [
    "import json"
   ]
  },
  {
   "cell_type": "code",
   "execution_count": null,
   "metadata": {},
   "outputs": [],
   "source": [
    "json.dumps({\n",
    "\t\"Monday\": [\n",
    "\t\t{\n",
    "\t\t\t\"Activity\": \"Dis S & A II /L\",\n",
    "\t\t\t\"Name\": \"Data Structures & Algorithms\",\n",
    "\t\t\t\"Type\": \"Lecture\",\n",
    "\t\t\t\"Start\": \"10:00\",\n",
    "\t\t\t\"End\": \"11:00\",\n",
    "\t\t\t\"Duration\": \"1:00\",\n",
    "\t\t\t\"Weeks\": \"7-20, 25-29\",\n",
    "\t\t\t\"Room\": \"L110 Lecture Room Swivel 48\",\n",
    "\t\t\t\"Staff\": \"_, _\",\n",
    "\t\t\t\"Student_Groups\": \"KCSOFD_3B CW238 C3 44;KCSOFD_3A CW238 C3 44\"\n",
    "\t\t}\n",
    "\t]\n",
    "\t})"
   ]
  }
 ],
 "metadata": {
  "kernelspec": {
   "display_name": "Python 3.10.7 64-bit (microsoft store)",
   "language": "python",
   "name": "python3"
  },
  "language_info": {
   "codemirror_mode": {
    "name": "ipython",
    "version": 3
   },
   "file_extension": ".py",
   "mimetype": "text/x-python",
   "name": "python",
   "nbconvert_exporter": "python",
   "pygments_lexer": "ipython3",
   "version": "3.10.7"
  },
  "orig_nbformat": 4,
  "vscode": {
   "interpreter": {
    "hash": "8bf0d51478355d2251941b3b98616086516a0eddd7c72ee47a3371765770709a"
   }
  }
 },
 "nbformat": 4,
 "nbformat_minor": 2
}
