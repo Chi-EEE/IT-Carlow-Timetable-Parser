{
 "cells": [
  {
   "cell_type": "code",
   "execution_count": 3,
   "metadata": {},
   "outputs": [],
   "source": [
    "from threading import Thread\n",
    "import asyncio\n",
    "from time import sleep"
   ]
  },
  {
   "cell_type": "code",
   "execution_count": 4,
   "metadata": {},
   "outputs": [
    {
     "name": "stdout",
     "output_type": "stream",
     "text": [
      "task\n"
     ]
    },
    {
     "name": "stdout",
     "output_type": "stream",
     "text": [
      "lol\n"
     ]
    }
   ],
   "source": [
    "\n",
    "async def task():\n",
    "    print(\"lol\")\n",
    "\n",
    "task_thread = Thread(target=asyncio.run, args=(task(),))\n",
    "task_thread.start()\n",
    "print(\"task\")"
   ]
  },
  {
   "cell_type": "code",
   "execution_count": null,
   "metadata": {},
   "outputs": [],
   "source": [
    "from datetime import datetime"
   ]
  },
  {
   "cell_type": "code",
   "execution_count": null,
   "metadata": {},
   "outputs": [],
   "source": [
    "MINUTES = 1\n",
    "async def loop():\n",
    "    amount = 60 // MINUTES\n",
    "    while datetime.now().minute not in {\n",
    "        (i * MINUTES) % 60 for i in range(amount)\n",
    "    }:  # Wait 1 second until we are synced up with the 'every 15 minutes' clock\n",
    "        sleep(1)\n",
    "\n",
    "    async def task():\n",
    "        print(\"again\")\n",
    "\n",
    "    await task()\n",
    "\n",
    "    while True:\n",
    "        print(\"wait\")\n",
    "        sleep(60 * MINUTES)\n",
    "        print(\"done watiing\")\n",
    "        await task()"
   ]
  },
  {
   "cell_type": "code",
   "execution_count": null,
   "metadata": {},
   "outputs": [],
   "source": [
    "loop_thread = Thread(target=asyncio.run, args=(loop(),))\n",
    "loop_thread.start()"
   ]
  },
  {
   "cell_type": "code",
   "execution_count": 5,
   "metadata": {},
   "outputs": [],
   "source": [
    "from threading import Thread\n",
    "class TimetableAlertThread(Thread):\n",
    "    def __init__(self):\n",
    "        Thread.__init__(self)\n",
    "        self.running |= True\n",
    "    def stop(self):\n",
    "        self.running = False"
   ]
  },
  {
   "cell_type": "code",
   "execution_count": 8,
   "metadata": {},
   "outputs": [
    {
     "name": "stdout",
     "output_type": "stream",
     "text": [
      "lol\n"
     ]
    },
    {
     "ename": "AttributeError",
     "evalue": "'Thread' object has no attribute 'stop'",
     "output_type": "error",
     "traceback": [
      "\u001b[1;31m---------------------------------------------------------------------------\u001b[0m",
      "\u001b[1;31mAttributeError\u001b[0m                            Traceback (most recent call last)",
      "Cell \u001b[1;32mIn [8], line 6\u001b[0m\n\u001b[0;32m      4\u001b[0m a\u001b[39m.\u001b[39mstart()\n\u001b[0;32m      5\u001b[0m sleep(\u001b[39m10\u001b[39m)\n\u001b[1;32m----> 6\u001b[0m a\u001b[39m.\u001b[39;49mstop()\n",
      "\u001b[1;31mAttributeError\u001b[0m: 'Thread' object has no attribute 'stop'"
     ]
    }
   ],
   "source": [
    "from time import sleep\n",
    "import asyncio\n",
    "a = Thread(target=asyncio.run, args=(task(),))\n",
    "a.start()"
   ]
  },
  {
   "cell_type": "code",
   "execution_count": null,
   "metadata": {},
   "outputs": [],
   "source": []
  }
 ],
 "metadata": {
  "kernelspec": {
   "display_name": "Python 3.10.7 64-bit",
   "language": "python",
   "name": "python3"
  },
  "language_info": {
   "codemirror_mode": {
    "name": "ipython",
    "version": 3
   },
   "file_extension": ".py",
   "mimetype": "text/x-python",
   "name": "python",
   "nbconvert_exporter": "python",
   "pygments_lexer": "ipython3",
   "version": "3.10.7"
  },
  "orig_nbformat": 4,
  "vscode": {
   "interpreter": {
    "hash": "beedbe2faf2f7048d727558d0bc3221e7eba2a0b921cac4d4771b2feb8f74b30"
   }
  }
 },
 "nbformat": 4,
 "nbformat_minor": 2
}
