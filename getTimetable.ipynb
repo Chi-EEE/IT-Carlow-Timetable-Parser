{
 "cells": [
  {
   "cell_type": "code",
   "execution_count": null,
   "metadata": {},
   "outputs": [],
   "source": [
    "from bs4 import BeautifulSoup"
   ]
  },
  {
   "cell_type": "code",
   "execution_count": null,
   "metadata": {},
   "outputs": [],
   "source": [
    "import requests"
   ]
  },
  {
   "cell_type": "code",
   "execution_count": null,
   "metadata": {},
   "outputs": [],
   "source": [
    "timetableHtml = requests.get(\"http://timetable.itcarlow.ie/reporting/textspreadsheet;student+set;id;KCSOFD_3A%20CW207%20C3%0D%0A?t=student+set+textspreadsheet&days=1-5&weeks=&periods=5-40&template=student+set+textspreadsheet\")"
   ]
  },
  {
   "cell_type": "code",
   "execution_count": null,
   "metadata": {},
   "outputs": [],
   "source": [
    "soup = BeautifulSoup(timetableHtml.text)"
   ]
  },
  {
   "cell_type": "code",
   "execution_count": null,
   "metadata": {},
   "outputs": [],
   "source": [
    "body = soup.find(\"body\")"
   ]
  },
  {
   "cell_type": "code",
   "execution_count": null,
   "metadata": {},
   "outputs": [],
   "source": [
    "tables = body.findChildren(\"table\", recursive=False)"
   ]
  },
  {
   "cell_type": "code",
   "execution_count": null,
   "metadata": {},
   "outputs": [],
   "source": [
    "len(tables)"
   ]
  },
  {
   "cell_type": "code",
   "execution_count": null,
   "metadata": {},
   "outputs": [],
   "source": [
    "timetable_days = tables[1:6]"
   ]
  },
  {
   "cell_type": "code",
   "execution_count": null,
   "metadata": {},
   "outputs": [],
   "source": [
    "timetable_days"
   ]
  },
  {
   "cell_type": "code",
   "execution_count": null,
   "metadata": {},
   "outputs": [],
   "source": [
    "timetable_days[0]"
   ]
  },
  {
   "cell_type": "code",
   "execution_count": null,
   "metadata": {},
   "outputs": [],
   "source": [
    "print(timetable_days[0].find_all(\"tr\"))"
   ]
  },
  {
   "cell_type": "code",
   "execution_count": null,
   "metadata": {},
   "outputs": [],
   "source": [
    "monday = timetable_days[0]\n",
    "modules = monday.find_all(\"tr\")[1:]"
   ]
  },
  {
   "cell_type": "code",
   "execution_count": null,
   "metadata": {},
   "outputs": [],
   "source": [
    "modules"
   ]
  },
  {
   "cell_type": "code",
   "execution_count": null,
   "metadata": {},
   "outputs": [],
   "source": [
    "days = [p.find(\"span\").string for p in body.find_all(\"p\", recursive=False)]\n",
    "days"
   ]
  },
  {
   "cell_type": "code",
   "execution_count": null,
   "metadata": {},
   "outputs": [],
   "source": [
    "from bs4 import BeautifulSoup\n",
    "import requests\n",
    "timetable_url = \"http://timetable.itcarlow.ie/reporting/textspreadsheet;student+set;id;KCSOFD_3A%20CW207%20C3%0D%0A?t=student+set+textspreadsheet&days=1-5&weeks=&periods=5-40&template=student+set+textspreadsheet\"\n",
    "timetable_html = requests.get(timetable_url)\n",
    "\n",
    "timetable_soup = BeautifulSoup(timetable_html.text)\n",
    "body = timetable_soup.find(\"body\")\n",
    "days = [p.find(\"span\").string for p in body.find_all(\"p\", recursive=False)]\n",
    "tables = body.findChildren(\"table\", recursive=False)\n",
    "timetable_days = tables[1:6]\n",
    "\n",
    "for day, modules in zip(days, timetable_days):\n",
    "\tmodules = modules.find_all(\"tr\")[1:]\n",
    "\tprint(f\"{day}:\")\n",
    "\tfor module in modules:\n",
    "\t\tmodule_activity, module_name, module_type, module_start, module_end, module_duration, module_weeks, module_room, module_staff, module_student_groups = (module_info.string for module_info in module.find_all(\"td\"))\n",
    "\t\tprint(module_activity, module_name, module_type, module_start, module_end, module_duration, module_weeks, module_room)\n",
    "\tprint(\"-------------------------------\")"
   ]
  },
  {
   "cell_type": "code",
   "execution_count": null,
   "metadata": {},
   "outputs": [],
   "source": []
  }
 ],
 "metadata": {
  "kernelspec": {
   "display_name": "Python 3.10.7 64-bit (microsoft store)",
   "language": "python",
   "name": "python3"
  },
  "language_info": {
   "codemirror_mode": {
    "name": "ipython",
    "version": 3
   },
   "file_extension": ".py",
   "mimetype": "text/x-python",
   "name": "python",
   "nbconvert_exporter": "python",
   "pygments_lexer": "ipython3",
   "version": "3.10.7"
  },
  "orig_nbformat": 4,
  "vscode": {
   "interpreter": {
    "hash": "8bf0d51478355d2251941b3b98616086516a0eddd7c72ee47a3371765770709a"
   }
  }
 },
 "nbformat": 4,
 "nbformat_minor": 2
}
