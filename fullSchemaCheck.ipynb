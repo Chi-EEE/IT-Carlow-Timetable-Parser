{
 "cells": [
  {
   "cell_type": "code",
   "execution_count": 18,
   "metadata": {},
   "outputs": [],
   "source": [
    "import requests\n",
    "from bs4 import BeautifulSoup\n",
    "import json\n",
    "import jsonschema\n",
    "from jsonschema import validate\n",
    "module_schema = {\n",
    "    \"type\": \"object\",\n",
    "    \"properties\": {\n",
    "        \"Activity\": {\"type\": \"string\"},\n",
    "        \"Name\": {\"type\": \"string\"},\n",
    "        \"Type\": {\"type\": \"string\"},\n",
    "        \"Start\": {\"type\": \"string\"},\n",
    "        \"End\": {\"type\": \"string\"},\n",
    "        \"Duration\": {\"type\": \"string\"},\n",
    "        \"Weeks\": {\"type\": \"string\"},\n",
    "        \"Room\": {\"type\": \"string\"},\n",
    "        \"Staff\": {\"type\": \"string\"},\n",
    "        \"Student_Groups\": {\"type\": \"string\"},\n",
    "    },\n",
    "    \"additionalProperties\": False,\n",
    "}\n",
    "\n",
    "day_schema = {\n",
    "    \"type\": \"array\",\n",
    "    \"items\": module_schema,\n",
    "    \"additionalProperties\": False,\n",
    "}\n",
    "\n",
    "timetable_info_schema = {\n",
    "    \"type\": \"object\",\n",
    "    \"properties\": {\n",
    "        \"Monday\": day_schema,\n",
    "        \"Tuesday\": day_schema,\n",
    "        \"Wednesday\": day_schema,\n",
    "        \"Thursday\": day_schema,\n",
    "        \"Friday\": day_schema,\n",
    "        \"Saturday\": day_schema,\n",
    "        \"Sunday\": day_schema,\n",
    "    },\n",
    "    \"additionalProperties\": False,\n",
    "}"
   ]
  },
  {
   "cell_type": "code",
   "execution_count": 20,
   "metadata": {},
   "outputs": [],
   "source": [
    "timetable_id = \"\"\"KCSOFD%5F3A%20CW207%20C3\"\"\"\n",
    "text_timetable_url = f\"http://timetable.itcarlow.ie/reporting/textspreadsheet;student+set;id;{timetable_id}?t=student+set+textspreadsheet&days=1-5&weeks=&periods=5-40&template=student+set+textspreadsheet\"\n",
    "timetable_html = requests.get(text_timetable_url)\n",
    "timetable_soup = BeautifulSoup(timetable_html.text, features=\"html.parser\")\n",
    "body = timetable_soup.find(\"body\")\n",
    "days = [p.find(\"span\").string for p in body.find_all(\"p\", recursive=False)]\n",
    "tables = body.findChildren(\"table\", recursive=False)\n",
    "timetable_days = tables[1:-1]\n",
    "\n",
    "week_modules = {}\n",
    "for day, modules in zip(days, timetable_days):\n",
    "    modules = modules.find_all(\"tr\")[1:]\n",
    "    day_modules = []\n",
    "    for module in modules:\n",
    "        (\n",
    "            module_activity,\n",
    "            module_name,\n",
    "            module_type,\n",
    "            module_start,\n",
    "            module_end,\n",
    "            module_duration,\n",
    "            module_weeks,\n",
    "            module_room,\n",
    "            module_staff,\n",
    "            module_student_groups,\n",
    "        ) = (module_info.string for module_info in module.find_all(\"td\"))\n",
    "        day_modules.append(\n",
    "            {\n",
    "                \"Activity\": module_activity,\n",
    "                \"Name\": module_name,\n",
    "                \"Type\": module_type,\n",
    "                \"Start\": module_start,\n",
    "                \"End\": module_end,\n",
    "                \"Duration\": module_duration,\n",
    "                \"Weeks\": module_weeks,\n",
    "                \"Room\": module_room,\n",
    "                \"Staff\": module_staff,\n",
    "                \"Student_Groups\": module_student_groups,\n",
    "            }\n",
    "        )\n",
    "    week_modules[day] = day_modules\n",
    "    # validate(instance=json.loads(json.dumps(day_modules, indent=4)), schema=day_schema)\n",
    "\n",
    "validate(instance=json.loads(json.dumps(week_modules, indent=4)), schema=timetable_info_schema)"
   ]
  },
  {
   "cell_type": "code",
   "execution_count": null,
   "metadata": {},
   "outputs": [],
   "source": []
  }
 ],
 "metadata": {
  "kernelspec": {
   "display_name": "Python 3.10.7 64-bit",
   "language": "python",
   "name": "python3"
  },
  "language_info": {
   "codemirror_mode": {
    "name": "ipython",
    "version": 3
   },
   "file_extension": ".py",
   "mimetype": "text/x-python",
   "name": "python",
   "nbconvert_exporter": "python",
   "pygments_lexer": "ipython3",
   "version": "3.10.7"
  },
  "orig_nbformat": 4,
  "vscode": {
   "interpreter": {
    "hash": "beedbe2faf2f7048d727558d0bc3221e7eba2a0b921cac4d4771b2feb8f74b30"
   }
  }
 },
 "nbformat": 4,
 "nbformat_minor": 2
}
