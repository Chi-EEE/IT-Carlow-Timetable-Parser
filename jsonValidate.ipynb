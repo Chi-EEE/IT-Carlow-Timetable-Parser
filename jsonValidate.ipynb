{
 "cells": [
  {
   "cell_type": "code",
   "execution_count": 18,
   "metadata": {},
   "outputs": [],
   "source": [
    "import json\n",
    "import jsonschema\n",
    "from jsonschema import validate"
   ]
  },
  {
   "cell_type": "code",
   "execution_count": 28,
   "metadata": {},
   "outputs": [],
   "source": [
    "timetable_channel_schema = {\n",
    "    \"type\": \"object\",\n",
    "    \"properties\": {\n",
    "\t\t\"url\": {\"type\": \"string\"},\n",
    "\t\t\"id\": {\"type\": \"string\"},\n",
    "\t\t\"hash\": {\"type\": \"string\"},\n",
    "\t},\n",
    "\t\"additionalProperties\": False,\n",
    "}"
   ]
  },
  {
   "cell_type": "code",
   "execution_count": 29,
   "metadata": {},
   "outputs": [
    {
     "name": "stdout",
     "output_type": "stream",
     "text": [
      "erreor\n"
     ]
    }
   ],
   "source": [
    "try:\n",
    "\ttimetable_info = json.loads('{\"a\": \"hello\"}')\n",
    "\tvalidate(instance=timetable_info, schema=timetable_channel_schema)\n",
    "\tprint(timetable_info.get(\"hash\"))\n",
    "except jsonschema.ValidationError:\n",
    "\tprint(\"erreor\")\n",
    "\tpass\n",
    "except ValueError:\n",
    "\tprint(\"none\")\n",
    "\tpass"
   ]
  },
  {
   "cell_type": "code",
   "execution_count": 26,
   "metadata": {},
   "outputs": [
    {
     "name": "stdout",
     "output_type": "stream",
     "text": [
      "{'name': 'jane doe', 'rollnumber': '25', 'marks': 72}\n",
      "Given JSON data is InValid\n",
      "{'name': 'jane doe', 'rollnumber': 25, 'marks': 72}\n",
      "Given JSON data is InValid\n"
     ]
    }
   ],
   "source": [
    "import json\n",
    "import jsonschema\n",
    "from jsonschema import validate\n",
    "\n",
    "# Describe what kind of json you expect.\n",
    "studentSchema = {\n",
    "    \"type\": \"object\",\n",
    "    \"properties\": {\n",
    "        \"aa\": {\"type\": \"string\"},\n",
    "        \"rollnumber\": {\"type\": \"number\"},\n",
    "        \"marks\": {\"type\": \"number\"},\n",
    "    },\n",
    "\t\"additionalProperties\": False\n",
    "}\n",
    "timetable_channel_schema = {\n",
    "    \"type\": \"object\",\n",
    "    \"properties\": {\n",
    "\t\t\"url\": {\"type\": \"string\"},\n",
    "\t\t\"id\": {\"type\": \"string\"},\n",
    "\t\t\"hash\": {\"type\": \"string\"},\n",
    "\t}\n",
    "}\n",
    "\n",
    "def validateJson(jsonData):\n",
    "    try:\n",
    "        validate(instance=jsonData, schema=studentSchema)\n",
    "    except jsonschema.exceptions.ValidationError as err:\n",
    "        return False\n",
    "    return True\n",
    "\n",
    "# Convert json to python object.\n",
    "jsonData = json.loads('{\"name\": \"jane doe\", \"rollnumber\": \"25\", \"marks\": 72}')\n",
    "# validate it\n",
    "isValid = validateJson(jsonData)\n",
    "if isValid:\n",
    "    print(jsonData)\n",
    "    print(\"Given JSON data is Valid\")\n",
    "else:\n",
    "    print(jsonData)\n",
    "    print(\"Given JSON data is InValid\")\n",
    "\n",
    "# Convert json to python object.\n",
    "jsonData = json.loads('{\"name\": \"jane doe\", \"rollnumber\": 25, \"marks\": 72}')\n",
    "# validate it\n",
    "isValid = validateJson(jsonData)\n",
    "if isValid:\n",
    "    print(jsonData)\n",
    "    print(\"Given JSON data is Valid\")\n",
    "else:\n",
    "    print(jsonData)\n",
    "    print(\"Given JSON data is InValid\")"
   ]
  },
  {
   "cell_type": "code",
   "execution_count": null,
   "metadata": {},
   "outputs": [],
   "source": []
  }
 ],
 "metadata": {
  "kernelspec": {
   "display_name": "Python 3.10.7 64-bit (microsoft store)",
   "language": "python",
   "name": "python3"
  },
  "language_info": {
   "codemirror_mode": {
    "name": "ipython",
    "version": 3
   },
   "file_extension": ".py",
   "mimetype": "text/x-python",
   "name": "python",
   "nbconvert_exporter": "python",
   "pygments_lexer": "ipython3",
   "version": "3.10.7"
  },
  "orig_nbformat": 4,
  "vscode": {
   "interpreter": {
    "hash": "8bf0d51478355d2251941b3b98616086516a0eddd7c72ee47a3371765770709a"
   }
  }
 },
 "nbformat": 4,
 "nbformat_minor": 2
}
